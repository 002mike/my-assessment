{
 "cells": [
  {
   "cell_type": "code",
   "execution_count": 5,
   "metadata": {},
   "outputs": [],
   "source": [
    "import importlib\n",
    "import subprocess\n",
    "\n",
    "import Advanced_SQL as asql\n",
    "import duckdb\n",
    "import SQL as sql\n",
    "\n",
    "_ = importlib.reload(asql)\n",
    "_ = importlib.reload(sql)"
   ]
  },
  {
   "cell_type": "markdown",
   "metadata": {},
   "source": [
    "Use this cell to test any sql queries. This can be done in one of the following ways:\n",
    "\n",
    "1. Fill in the `qry` within the \"\"\" \"\"\".\n",
    "2. Call the question functions that you have already filled in from the SQL.py and Advanced_SQL.py files. An example of question_1 being called from the SQL.py file is currently commented out.\n",
    "\n",
    "This cell can be copied if you wish to run multiple queries.\n"
   ]
  },
  {
   "cell_type": "code",
   "execution_count": 115,
   "metadata": {
    "scrolled": true
   },
   "outputs": [
    {
     "data": {
      "text/html": [
       "<div>\n",
       "<style scoped>\n",
       "    .dataframe tbody tr th:only-of-type {\n",
       "        vertical-align: middle;\n",
       "    }\n",
       "\n",
       "    .dataframe tbody tr th {\n",
       "        vertical-align: top;\n",
       "    }\n",
       "\n",
       "    .dataframe thead th {\n",
       "        text-align: right;\n",
       "    }\n",
       "</style>\n",
       "<table border=\"1\" class=\"dataframe\">\n",
       "  <thead>\n",
       "    <tr style=\"text-align: right;\">\n",
       "      <th></th>\n",
       "      <th>CustomerID</th>\n",
       "      <th>Age</th>\n",
       "      <th>CorrectedAge</th>\n",
       "      <th>Gender</th>\n",
       "      <th>AgeCategory</th>\n",
       "      <th>Rank</th>\n",
       "    </tr>\n",
       "  </thead>\n",
       "  <tbody>\n",
       "    <tr>\n",
       "      <th>0</th>\n",
       "      <td>698</td>\n",
       "      <td>29</td>\n",
       "      <td>50</td>\n",
       "      <td>Male</td>\n",
       "      <td>Adult</td>\n",
       "      <td>1</td>\n",
       "    </tr>\n",
       "    <tr>\n",
       "      <th>1</th>\n",
       "      <td>955</td>\n",
       "      <td>22</td>\n",
       "      <td>42</td>\n",
       "      <td>Male</td>\n",
       "      <td>Adult</td>\n",
       "      <td>1</td>\n",
       "    </tr>\n",
       "    <tr>\n",
       "      <th>2</th>\n",
       "      <td>334</td>\n",
       "      <td>39</td>\n",
       "      <td>37</td>\n",
       "      <td>Female</td>\n",
       "      <td>Adult</td>\n",
       "      <td>1</td>\n",
       "    </tr>\n",
       "    <tr>\n",
       "      <th>3</th>\n",
       "      <td>725</td>\n",
       "      <td>21</td>\n",
       "      <td>43</td>\n",
       "      <td>Male</td>\n",
       "      <td>Adult</td>\n",
       "      <td>1</td>\n",
       "    </tr>\n",
       "    <tr>\n",
       "      <th>4</th>\n",
       "      <td>190</td>\n",
       "      <td>69</td>\n",
       "      <td>54</td>\n",
       "      <td>Female</td>\n",
       "      <td>Adult</td>\n",
       "      <td>2</td>\n",
       "    </tr>\n",
       "    <tr>\n",
       "      <th>...</th>\n",
       "      <td>...</td>\n",
       "      <td>...</td>\n",
       "      <td>...</td>\n",
       "      <td>...</td>\n",
       "      <td>...</td>\n",
       "      <td>...</td>\n",
       "    </tr>\n",
       "    <tr>\n",
       "      <th>1009</th>\n",
       "      <td>747</td>\n",
       "      <td>24</td>\n",
       "      <td>19</td>\n",
       "      <td>Female</td>\n",
       "      <td>Teen</td>\n",
       "      <td>6</td>\n",
       "    </tr>\n",
       "    <tr>\n",
       "      <th>1010</th>\n",
       "      <td>5</td>\n",
       "      <td>67</td>\n",
       "      <td>18</td>\n",
       "      <td>Female</td>\n",
       "      <td>Teen</td>\n",
       "      <td>6</td>\n",
       "    </tr>\n",
       "    <tr>\n",
       "      <th>1011</th>\n",
       "      <td>643</td>\n",
       "      <td>54</td>\n",
       "      <td>19</td>\n",
       "      <td>Male</td>\n",
       "      <td>Teen</td>\n",
       "      <td>7</td>\n",
       "    </tr>\n",
       "    <tr>\n",
       "      <th>1012</th>\n",
       "      <td>596</td>\n",
       "      <td>71</td>\n",
       "      <td>19</td>\n",
       "      <td>Female</td>\n",
       "      <td>Teen</td>\n",
       "      <td>7</td>\n",
       "    </tr>\n",
       "    <tr>\n",
       "      <th>1013</th>\n",
       "      <td>152</td>\n",
       "      <td>32</td>\n",
       "      <td>19</td>\n",
       "      <td>Female</td>\n",
       "      <td>Teen</td>\n",
       "      <td>7</td>\n",
       "    </tr>\n",
       "  </tbody>\n",
       "</table>\n",
       "<p>1014 rows × 6 columns</p>\n",
       "</div>"
      ],
      "text/plain": [
       "      CustomerID  Age  CorrectedAge  Gender AgeCategory  Rank\n",
       "0            698   29            50    Male       Adult     1\n",
       "1            955   22            42    Male       Adult     1\n",
       "2            334   39            37  Female       Adult     1\n",
       "3            725   21            43    Male       Adult     1\n",
       "4            190   69            54  Female       Adult     2\n",
       "...          ...  ...           ...     ...         ...   ...\n",
       "1009         747   24            19  Female        Teen     6\n",
       "1010           5   67            18  Female        Teen     6\n",
       "1011         643   54            19    Male        Teen     7\n",
       "1012         596   71            19  Female        Teen     7\n",
       "1013         152   32            19  Female        Teen     7\n",
       "\n",
       "[1014 rows x 6 columns]"
      ]
     },
     "execution_count": 115,
     "metadata": {},
     "output_type": "execute_result"
    }
   ],
   "source": [
    "import Advanced_SQL as asql\n",
    "_ = importlib.reload(asql)\n",
    "\n",
    "qry = \"\"\"  \n",
    "SELECT * FROM timeline\n",
    "\"\"\"\n",
    "\n",
    "qry = asql.question_7()\n",
    "\n",
    "\n",
    "with duckdb.connect(\"database/loan.db\") as cursor:\n",
    "    result_set = cursor.execute(qry).df()\n",
    "\n",
    "result_set"
   ]
  },
  {
   "cell_type": "markdown",
   "metadata": {},
   "source": [
    "Should you break/incorrectly update any database tables, the database can be reset by running the following cell\n"
   ]
  },
  {
   "cell_type": "code",
   "execution_count": 102,
   "metadata": {},
   "outputs": [
    {
     "data": {
      "text/plain": [
       "CompletedProcess(args=['python3', 'database/database_load.py'], returncode=0)"
      ]
     },
     "execution_count": 102,
     "metadata": {},
     "output_type": "execute_result"
    }
   ],
   "source": [
    "load_script_path = \"database/database_load.py\"\n",
    "subprocess.run([\"python3\", load_script_path])"
   ]
  },
  {
   "cell_type": "code",
   "execution_count": null,
   "metadata": {},
   "outputs": [],
   "source": []
  }
 ],
 "metadata": {
  "kernelspec": {
   "display_name": "Python 3 (ipykernel)",
   "language": "python",
   "name": "python3"
  },
  "language_info": {
   "codemirror_mode": {
    "name": "ipython",
    "version": 3
   },
   "file_extension": ".py",
   "mimetype": "text/x-python",
   "name": "python",
   "nbconvert_exporter": "python",
   "pygments_lexer": "ipython3",
   "version": "3.10.15"
  }
 },
 "nbformat": 4,
 "nbformat_minor": 4
}
